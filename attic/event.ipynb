{
 "cells": [
  {
   "cell_type": "code",
   "execution_count": 4,
   "metadata": {
    "collapsed": false
   },
   "outputs": [
    {
     "name": "stdout",
     "output_type": "stream",
     "text": [
      "mkdir: cannot create directory ‘src’: File exists\r\n"
     ]
    }
   ],
   "source": [
    "source_dir = \"src\"\n",
    "!mkdir $source_dir"
   ]
  },
  {
   "cell_type": "code",
   "execution_count": 6,
   "metadata": {
    "collapsed": false
   },
   "outputs": [
    {
     "name": "stdout",
     "output_type": "stream",
     "text": [
      "Overwriting src/collision.h\n"
     ]
    }
   ],
   "source": [
    "%%writefile $source_dir/collision.h\n",
    "#ifndef _COLLISION_H\n",
    "#define _COLLISION_H\n",
    "\n",
    "#include <vector>\n",
    "\n",
    "using namespace std;\n",
    "\n",
    "class Collision {\n",
    "  /* A collision event of two bodies of zero radius,\n",
    "    records the time to collision, location of collision\n",
    "     and after collision velocities.\n",
    "   This object is needed because C++ functions cannot\n",
    "    return more than one values. */\n",
    "  public:\n",
    "  Collision(){collision_pos.resize(3);new_vel1.resize(3);new_vel2.resize(3);};\n",
    "  float time_to_collision;\n",
    "  vector<float> collision_pos,new_vel1,new_vel2;\n",
    "};\n",
    "#endif"
   ]
  },
  {
   "cell_type": "code",
   "execution_count": 7,
   "metadata": {
    "collapsed": false
   },
   "outputs": [
    {
     "name": "stdout",
     "output_type": "stream",
     "text": [
      "Overwriting src/particle.h\n"
     ]
    }
   ],
   "source": [
    "%%writefile $source_dir/particle.h\n",
    "#ifndef _PARTICLE_H\n",
    "#define _PARTICLE_H\n",
    "\n",
    "#include <vector>\n",
    "\n",
    "using namespace std;\n",
    "\n",
    "class Particle {\n",
    "    \n",
    "    vector<float> pos;\n",
    "    vector<float> vel;\n",
    "    float mass;\n",
    "    \n",
    "    public:\n",
    "    \n",
    "    Particle(){mass=1.;pos.resize(3);vel.resize(3);};\n",
    "    \n",
    "    vector<float> get_pos(){return this->pos;};\n",
    "    vector<float> get_vel(){return this->vel;};\n",
    "    void change_pos(vector<float> pos){this->pos=pos;};\n",
    "    void change_pos_component(int idx, float value){this->pos[idx]=value;};\n",
    "    void change_vel(vector<float> vel){this->vel=vel;};\n",
    "    void change_vel_component(int idx, float value){this->vel[idx]=value;};\n",
    "    \n",
    "};\n",
    "# endif"
   ]
  },
  {
   "cell_type": "code",
   "execution_count": 8,
   "metadata": {
    "collapsed": false
   },
   "outputs": [
    {
     "name": "stdout",
     "output_type": "stream",
     "text": [
      "Overwriting src/box.h\n"
     ]
    }
   ],
   "source": [
    "%%writefile $source_dir/box.h\n",
    "#ifndef _BOX_H\n",
    "#define _BOX_H\n",
    "\n",
    "#include \"particle.h\"\n",
    "#include \"collision.h\"\n",
    "\n",
    "class Box {\n",
    "    // cubic box with one cornor at the origin\n",
    "    vector<float> side_length;\n",
    "    public:\n",
    "    Box(float lx,float ly,float lz){\n",
    "        side_length.resize(3);\n",
    "        side_length[0] = lx;\n",
    "        side_length[1] = ly;\n",
    "        side_length[2] = lz;\n",
    "    };\n",
    "    float surface_area();\n",
    "    \n",
    "    Collision next_collision_with(Particle* ptcl);\n",
    "    \n",
    "};\n",
    "#endif"
   ]
  },
  {
   "cell_type": "code",
   "execution_count": 9,
   "metadata": {
    "collapsed": false
   },
   "outputs": [
    {
     "name": "stdout",
     "output_type": "stream",
     "text": [
      "Overwriting src/box.cpp\n"
     ]
    }
   ],
   "source": [
    "%%writefile $source_dir/box.cpp\n",
    "\n",
    "#include \"box.h\"\n",
    "\n",
    "float Box::surface_area(){\n",
    "  return 2.*(side_length[0]*side_length[1] \n",
    "           + side_length[1]*side_length[2] \n",
    "           + side_length[2]*side_length[0] );\n",
    "}\n",
    "\n",
    "Collision Box::next_collision_with(Particle* ptcl){\n",
    "            \n",
    "  // record the collision event\n",
    "  Collision collision;\n",
    "  collision.collision_pos = ptcl->get_pos();\n",
    "  \n",
    "  // calculate what happens after the collision\n",
    "  collision.new_vel1 = ptcl->get_vel();\n",
    "  int face_to_collide_with = 0;\n",
    "  float time_to_collision = 1.0/0.0; // !! better define inf\n",
    "            \n",
    "  // loop through each wall, find time to collision\n",
    "  for (unsigned int dir=0;dir<3;dir++){ // x,y,z\n",
    "    for (unsigned int plus=0;plus<2;plus++){ // -,+ direction\n",
    "      \n",
    "      float distance_to_wall = 0;\n",
    "      // [position of wall - position of particle] in given direction\n",
    "      if (plus){\n",
    "        distance_to_wall = side_length[dir]-ptcl->get_pos()[dir];\n",
    "      } else {\n",
    "        distance_to_wall = 0.0 - ptcl->get_pos()[dir];\n",
    "      }\n",
    "                                            \n",
    "      float time = time_to_collision;\n",
    "      if (distance_to_wall!=0){\n",
    "        time = distance_to_wall/ptcl->get_vel()[dir];        \n",
    "      }\n",
    "      \n",
    "      // if time is properly calculated this part is fine \n",
    "      //  assign nexy collision\n",
    "      if (time >0 && time < time_to_collision){\n",
    "        // enumerate faces (-x,+x,-y,+y,-z,+z) -> (0,1,2,3,4,5)\n",
    "        face_to_collide_with = dir*2+plus;\n",
    "        time_to_collision = time;\n",
    "      }\n",
    "                                            \n",
    "    }\n",
    "  }\n",
    "\n",
    "  collision.time_to_collision = time_to_collision;\n",
    "  for (unsigned int dir=0;dir<3;dir++){ // x,y,z\n",
    "    for (unsigned int plus=0;plus<2;plus++){ // -,+ direction\n",
    "      if (dir*2+plus==face_to_collide_with){\n",
    "        collision.new_vel1[dir] = -1.*ptcl->get_vel()[dir];      \n",
    "      }\n",
    "    }\n",
    "  }\n",
    "\n",
    "  return collision;\n",
    "}"
   ]
  },
  {
   "cell_type": "code",
   "execution_count": 12,
   "metadata": {
    "collapsed": false
   },
   "outputs": [
    {
     "name": "stdout",
     "output_type": "stream",
     "text": [
      "Overwriting src/main.cpp\n"
     ]
    }
   ],
   "source": [
    "%%writefile $source_dir/main.cpp\n",
    "#include <iostream>\n",
    "#include <numeric> // inner_product\n",
    "#include <cmath> // sqrt\n",
    "\n",
    "#include \"particle.h\"\n",
    "#include \"box.h\"\n",
    "\n",
    "int main(){\n",
    "    \n",
    "    // initialize unit volume box\n",
    "    Box box(1,1,1);\n",
    "    \n",
    "    // initialize particle at center of box\n",
    "    Particle ptcl;\n",
    "    vector<float> pos0 = {0.5,0.5,0.5};\n",
    "    ptcl.change_pos(pos0);\n",
    "    \n",
    "    // give the particle a push\n",
    "    ptcl.change_vel_component(0,0.5);\n",
    "    ptcl.change_vel_component(1,0.2);\n",
    "    ptcl.change_vel_component(2,-0.3);\n",
    "    \n",
    "    // simulate some number of collision events, record total impulse\n",
    "    //  deposited onto the surface of the box\n",
    "    \n",
    "    float t = 0.0;\n",
    "    float T = 36000.0;\n",
    "    int max_event = 1;\n",
    "    \n",
    "    vector<double> dvel(3);\n",
    "    float impulse = 0.0;\n",
    "    \n",
    "    unsigned int ievent = 0;\n",
    "    for (ievent = 0; ievent < max_event; ievent += 1){\n",
    "        \n",
    "        // find next collision event\n",
    "        Collision col = box.next_collision_with(&ptcl);\n",
    "        \n",
    "        // calculate impulse\n",
    "        for (unsigned int dir=0;dir<3;dir++){\n",
    "            dvel[dir] = col.new_vel1[dir] - ptcl.get_vel()[dir];\n",
    "            float dv2 = inner_product(dvel.begin(),dvel.end(),dvel.begin(),0);\n",
    "            impulse += sqrt(dv2);\n",
    "        }\n",
    "        \n",
    "        // let particle know of its collision\n",
    "        ptcl.change_pos(col.collision_pos);\n",
    "        ptcl.change_vel(col.new_vel1);\n",
    "        \n",
    "        // increment time\n",
    "        t += col.time_to_collision;\n",
    "        if (t>T) break;\n",
    "    }\n",
    "    cout << ievent << endl;\n",
    "    cout << impulse/t/box.surface_area() << endl;\n",
    "    \n",
    "    return 0;\n",
    "}"
   ]
  },
  {
   "cell_type": "code",
   "execution_count": 13,
   "metadata": {
    "collapsed": false
   },
   "outputs": [
    {
     "name": "stdout",
     "output_type": "stream",
     "text": [
      "1\r\n",
      "0.5\r\n"
     ]
    }
   ],
   "source": [
    "!g++ -std=c++11 -g $source_dir/main.cpp $source_dir/box.cpp -o main\n",
    "!./main"
   ]
  },
  {
   "cell_type": "code",
   "execution_count": null,
   "metadata": {
    "collapsed": true
   },
   "outputs": [],
   "source": []
  }
 ],
 "metadata": {
  "kernelspec": {
   "display_name": "Python 2",
   "language": "python",
   "name": "python2"
  },
  "language_info": {
   "codemirror_mode": {
    "name": "ipython",
    "version": 2
   },
   "file_extension": ".py",
   "mimetype": "text/x-python",
   "name": "python",
   "nbconvert_exporter": "python",
   "pygments_lexer": "ipython2",
   "version": "2.7.6"
  }
 },
 "nbformat": 4,
 "nbformat_minor": 0
}
